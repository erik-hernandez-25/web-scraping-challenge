{
 "cells": [
  {
   "cell_type": "code",
   "execution_count": 1,
   "id": "2de51542",
   "metadata": {},
   "outputs": [
    {
     "name": "stderr",
     "output_type": "stream",
     "text": [
      "[WDM] - ====== WebDriver manager ======\n",
      "[WDM] - Current google-chrome version is 89.0.4389\n",
      "[WDM] - Get LATEST driver version for 89.0.4389\n",
      "[WDM] - Driver [/Users/erik/.wdm/drivers/chromedriver/mac64/89.0.4389.23/chromedriver] found in cache\n"
     ]
    },
    {
     "name": "stdout",
     "output_type": "stream",
     "text": [
      "\n",
      "\n"
     ]
    }
   ],
   "source": [
    "# Import Splinter and set the chromedriver path\n",
    "import pandas as pd\n",
    "from bs4 import BeautifulSoup\n",
    "from splinter import Browser\n",
    "from webdriver_manager.chrome import ChromeDriverManager\n",
    "executable_path = {'executable_path': ChromeDriverManager().install()}\n",
    "browser = Browser('chrome', **executable_path, headless=False)"
   ]
  },
  {
   "cell_type": "markdown",
   "id": "5324c60c",
   "metadata": {},
   "source": [
    "# EXTRACT NASA NEWS"
   ]
  },
  {
   "cell_type": "code",
   "execution_count": 2,
   "id": "033d8757",
   "metadata": {},
   "outputs": [],
   "source": [
    "# Visit the following URL\n",
    "url = \"https://redplanetscience.com/\"\n",
    "browser.visit(url)"
   ]
  },
  {
   "cell_type": "code",
   "execution_count": 3,
   "id": "38b810ad",
   "metadata": {},
   "outputs": [],
   "source": [
    "html = browser.html\n",
    "soup = BeautifulSoup(html, \"html.parser\")"
   ]
  },
  {
   "cell_type": "code",
   "execution_count": 4,
   "id": "0d824da8",
   "metadata": {},
   "outputs": [],
   "source": [
    "# scrape the Mars News Site and collect the latest News Title and Paragraph Text. \n",
    "# assign the text to variables that you can reference later.\n",
    "current_news_title = soup.find('div', id='news').find('div', class_='content_title').text\n",
    "current_news_p = soup.find('div', id='news').find('div', class_='article_teaser_body').text\n"
   ]
  },
  {
   "cell_type": "code",
   "execution_count": 5,
   "id": "e0868836",
   "metadata": {},
   "outputs": [
    {
     "name": "stdout",
     "output_type": "stream",
     "text": [
      "NASA Invites Public to Share Excitement of Mars 2020 Perseverance Rover Launch\n",
      "There are lots of ways to participate in the historic event, which is targeted for July 30.\n"
     ]
    }
   ],
   "source": [
    "print(current_news_title)\n",
    "print(current_news_p)"
   ]
  },
  {
   "cell_type": "markdown",
   "id": "deaad4dc",
   "metadata": {},
   "source": [
    "# EXTRACT NASA SPACE IMAGES"
   ]
  },
  {
   "cell_type": "code",
   "execution_count": 6,
   "id": "31f01dfd",
   "metadata": {},
   "outputs": [],
   "source": [
    "url = \"https://spaceimages-mars.com\"\n",
    "browser.visit(url)"
   ]
  },
  {
   "cell_type": "code",
   "execution_count": 7,
   "id": "734d6a3d",
   "metadata": {},
   "outputs": [],
   "source": [
    "html = browser.html\n",
    "soup = BeautifulSoup(html, \"html.parser\")"
   ]
  },
  {
   "cell_type": "code",
   "execution_count": 8,
   "id": "81b806d1",
   "metadata": {},
   "outputs": [
    {
     "data": {
      "text/plain": [
       "'image/featured/mars2.jpg'"
      ]
     },
     "execution_count": 8,
     "metadata": {},
     "output_type": "execute_result"
    }
   ],
   "source": [
    "# Image source\n",
    "img_source = soup.findAll('img','headerimage fade-in')\n",
    "\n",
    "image_url =[]\n",
    "for image in img_source:\n",
    "    #print image source\n",
    "    image_url.append(image['src'])\n",
    "    \n",
    "image_url[0]"
   ]
  },
  {
   "cell_type": "code",
   "execution_count": 9,
   "id": "53a67beb",
   "metadata": {},
   "outputs": [
    {
     "name": "stdout",
     "output_type": "stream",
     "text": [
      "https://spaceimages-mars.com/image/featured/mars2.jpg\n"
     ]
    }
   ],
   "source": [
    "#Build Complete Path\n",
    "base_url = \"https://spaceimages-mars.com/\"\n",
    "\n",
    "# the image URL\n",
    "featured_image_url = base_url + image_url[0]\n",
    "\n",
    "print(featured_image_url)"
   ]
  },
  {
   "cell_type": "markdown",
   "id": "48c09b3b",
   "metadata": {},
   "source": [
    "# EXTRACT MARS FACTS"
   ]
  },
  {
   "cell_type": "code",
   "execution_count": 10,
   "id": "93c768c8",
   "metadata": {},
   "outputs": [],
   "source": [
    "url = \"https://galaxyfacts-mars.com\""
   ]
  },
  {
   "cell_type": "code",
   "execution_count": 11,
   "id": "a72cca4b",
   "metadata": {},
   "outputs": [
    {
     "data": {
      "text/html": [
       "<div>\n",
       "<style scoped>\n",
       "    .dataframe tbody tr th:only-of-type {\n",
       "        vertical-align: middle;\n",
       "    }\n",
       "\n",
       "    .dataframe tbody tr th {\n",
       "        vertical-align: top;\n",
       "    }\n",
       "\n",
       "    .dataframe thead th {\n",
       "        text-align: right;\n",
       "    }\n",
       "</style>\n",
       "<table border=\"1\" class=\"dataframe\">\n",
       "  <thead>\n",
       "    <tr style=\"text-align: right;\">\n",
       "      <th></th>\n",
       "      <th>0</th>\n",
       "      <th>1</th>\n",
       "      <th>2</th>\n",
       "    </tr>\n",
       "  </thead>\n",
       "  <tbody>\n",
       "    <tr>\n",
       "      <th>0</th>\n",
       "      <td>Mars - Earth Comparison</td>\n",
       "      <td>Mars</td>\n",
       "      <td>Earth</td>\n",
       "    </tr>\n",
       "    <tr>\n",
       "      <th>1</th>\n",
       "      <td>Diameter:</td>\n",
       "      <td>6,779 km</td>\n",
       "      <td>12,742 km</td>\n",
       "    </tr>\n",
       "    <tr>\n",
       "      <th>2</th>\n",
       "      <td>Mass:</td>\n",
       "      <td>6.39 × 10^23 kg</td>\n",
       "      <td>5.97 × 10^24 kg</td>\n",
       "    </tr>\n",
       "    <tr>\n",
       "      <th>3</th>\n",
       "      <td>Moons:</td>\n",
       "      <td>2</td>\n",
       "      <td>1</td>\n",
       "    </tr>\n",
       "    <tr>\n",
       "      <th>4</th>\n",
       "      <td>Distance from Sun:</td>\n",
       "      <td>227,943,824 km</td>\n",
       "      <td>149,598,262 km</td>\n",
       "    </tr>\n",
       "    <tr>\n",
       "      <th>5</th>\n",
       "      <td>Length of Year:</td>\n",
       "      <td>687 Earth days</td>\n",
       "      <td>365.24 days</td>\n",
       "    </tr>\n",
       "    <tr>\n",
       "      <th>6</th>\n",
       "      <td>Temperature:</td>\n",
       "      <td>-87 to -5 °C</td>\n",
       "      <td>-88 to 58°C</td>\n",
       "    </tr>\n",
       "  </tbody>\n",
       "</table>\n",
       "</div>"
      ],
      "text/plain": [
       "                         0                1                2\n",
       "0  Mars - Earth Comparison             Mars            Earth\n",
       "1                Diameter:         6,779 km        12,742 km\n",
       "2                    Mass:  6.39 × 10^23 kg  5.97 × 10^24 kg\n",
       "3                   Moons:                2                1\n",
       "4       Distance from Sun:   227,943,824 km   149,598,262 km\n",
       "5          Length of Year:   687 Earth days      365.24 days\n",
       "6             Temperature:     -87 to -5 °C      -88 to 58°C"
      ]
     },
     "execution_count": 11,
     "metadata": {},
     "output_type": "execute_result"
    }
   ],
   "source": [
    "mars_facts = pd.read_html(url)[0]\n",
    "mars_facts"
   ]
  },
  {
   "cell_type": "code",
   "execution_count": 12,
   "id": "511221a1",
   "metadata": {},
   "outputs": [
    {
     "data": {
      "text/plain": [
       "'<table border=\"1\" class=\"dataframe\">\\n  <thead>\\n    <tr style=\"text-align: right;\">\\n      <th></th>\\n      <th>0</th>\\n      <th>1</th>\\n      <th>2</th>\\n    </tr>\\n  </thead>\\n  <tbody>\\n    <tr>\\n      <th>0</th>\\n      <td>Mars - Earth Comparison</td>\\n      <td>Mars</td>\\n      <td>Earth</td>\\n    </tr>\\n    <tr>\\n      <th>1</th>\\n      <td>Diameter:</td>\\n      <td>6,779 km</td>\\n      <td>12,742 km</td>\\n    </tr>\\n    <tr>\\n      <th>2</th>\\n      <td>Mass:</td>\\n      <td>6.39 × 10^23 kg</td>\\n      <td>5.97 × 10^24 kg</td>\\n    </tr>\\n    <tr>\\n      <th>3</th>\\n      <td>Moons:</td>\\n      <td>2</td>\\n      <td>1</td>\\n    </tr>\\n    <tr>\\n      <th>4</th>\\n      <td>Distance from Sun:</td>\\n      <td>227,943,824 km</td>\\n      <td>149,598,262 km</td>\\n    </tr>\\n    <tr>\\n      <th>5</th>\\n      <td>Length of Year:</td>\\n      <td>687 Earth days</td>\\n      <td>365.24 days</td>\\n    </tr>\\n    <tr>\\n      <th>6</th>\\n      <td>Temperature:</td>\\n      <td>-87 to -5 °C</td>\\n      <td>-88 to 58°C</td>\\n    </tr>\\n  </tbody>\\n</table>'"
      ]
     },
     "execution_count": 12,
     "metadata": {},
     "output_type": "execute_result"
    }
   ],
   "source": [
    "mars_table = mars_facts.to_html()\n",
    "mars_table"
   ]
  },
  {
   "cell_type": "markdown",
   "id": "2973f180",
   "metadata": {},
   "source": [
    "# MARS HEMISPHERES PICTURES"
   ]
  },
  {
   "cell_type": "code",
   "execution_count": 13,
   "id": "0998d3bf",
   "metadata": {},
   "outputs": [],
   "source": [
    "base_url = \"https://marshemispheres.com/\"\n",
    "cerberus_emisphere_url = \"https://marshemispheres.com/cerberus.html\"\n",
    "schiaparelli_emisphere_url = \"https://marshemispheres.com/schiaparelli.html\"\n",
    "syrtis_emisphere_url = \"https://marshemispheres.com/syrtis.html\"\n",
    "valles_emisphere_url= \"https://marshemispheres.com/valles.html\""
   ]
  },
  {
   "cell_type": "code",
   "execution_count": 14,
   "id": "7bea9512",
   "metadata": {},
   "outputs": [
    {
     "data": {
      "text/plain": [
       "['https://marshemispheres.com/images/full.jpg']"
      ]
     },
     "execution_count": 14,
     "metadata": {},
     "output_type": "execute_result"
    }
   ],
   "source": [
    "# Image source\n",
    "browser.visit(cerberus_emisphere_url)\n",
    "html = browser.html\n",
    "soup = BeautifulSoup(html, \"html.parser\")\n",
    "\n",
    "img_source = soup.find('div', class_='downloads').a['href']\n",
    "\n",
    "hemispheres =[]\n",
    "hemispheres.append(base_url + img_source)\n",
    "    \n",
    "hemispheres"
   ]
  },
  {
   "cell_type": "code",
   "execution_count": 15,
   "id": "6d804841",
   "metadata": {},
   "outputs": [
    {
     "data": {
      "text/plain": [
       "['https://marshemispheres.com/images/full.jpg',\n",
       " 'https://marshemispheres.com/images/schiaparelli_enhanced-full.jpg']"
      ]
     },
     "execution_count": 15,
     "metadata": {},
     "output_type": "execute_result"
    }
   ],
   "source": [
    "# Image source\n",
    "browser.visit(schiaparelli_emisphere_url)\n",
    "html = browser.html\n",
    "soup = BeautifulSoup(html, \"html.parser\")\n",
    "\n",
    "img_source = soup.find('div', class_='downloads').a['href']\n",
    "\n",
    "hemispheres.append(base_url + img_source)\n",
    "    \n",
    "hemispheres"
   ]
  },
  {
   "cell_type": "code",
   "execution_count": 16,
   "id": "d6e59671",
   "metadata": {},
   "outputs": [
    {
     "data": {
      "text/plain": [
       "['https://marshemispheres.com/images/full.jpg',\n",
       " 'https://marshemispheres.com/images/schiaparelli_enhanced-full.jpg',\n",
       " 'https://marshemispheres.com/images/syrtis_major_enhanced-full.jpg']"
      ]
     },
     "execution_count": 16,
     "metadata": {},
     "output_type": "execute_result"
    }
   ],
   "source": [
    "# Image source\n",
    "browser.visit(syrtis_emisphere_url)\n",
    "html = browser.html\n",
    "soup = BeautifulSoup(html, \"html.parser\")\n",
    "\n",
    "img_source = soup.find('div', class_='downloads').a['href']\n",
    "\n",
    "hemispheres.append(base_url + img_source)\n",
    "    \n",
    "hemispheres"
   ]
  },
  {
   "cell_type": "code",
   "execution_count": 17,
   "id": "d9f9bb34",
   "metadata": {},
   "outputs": [
    {
     "data": {
      "text/plain": [
       "['https://marshemispheres.com/images/full.jpg',\n",
       " 'https://marshemispheres.com/images/schiaparelli_enhanced-full.jpg',\n",
       " 'https://marshemispheres.com/images/syrtis_major_enhanced-full.jpg',\n",
       " 'https://marshemispheres.com/images/valles_marineris_enhanced-full.jpg']"
      ]
     },
     "execution_count": 17,
     "metadata": {},
     "output_type": "execute_result"
    }
   ],
   "source": [
    "# Image source\n",
    "browser.visit(valles_emisphere_url)\n",
    "html = browser.html\n",
    "soup = BeautifulSoup(html, \"html.parser\")\n",
    "\n",
    "img_source = soup.findAll('img','wide-image')\n",
    "\n",
    "img_source = soup.find('div', class_='downloads').a['href']\n",
    "\n",
    "hemispheres.append(base_url + img_source)\n",
    "    \n",
    "hemispheres"
   ]
  },
  {
   "cell_type": "code",
   "execution_count": 18,
   "id": "aa293172",
   "metadata": {},
   "outputs": [],
   "source": [
    "#Python dictionary to store the data using the keys `img_url` and `title`.\n",
    "hemispheres_list =['Cerberus Hemisphere', 'Schiaparelli Hemisphere','Syrtis Major Hemisphere','Valles Marineris']\n",
    "\n",
    "hemisphere_data_1 = {'title': hemispheres_list[0], 'img_url':hemispheres[0]}\n",
    "hemisphere_data_2 = {'title': hemispheres_list[1], 'img_url':hemispheres[1]}\n",
    "hemisphere_data_3 = {'title': hemispheres_list[2], 'img_url':hemispheres[2]}\n",
    "hemisphere_data_4 = {'title': hemispheres_list[3], 'img_url':hemispheres[3]}"
   ]
  },
  {
   "cell_type": "code",
   "execution_count": 19,
   "id": "8a7c97d2",
   "metadata": {},
   "outputs": [],
   "source": [
    "browser.quit()"
   ]
  },
  {
   "cell_type": "code",
   "execution_count": null,
   "id": "18fdb1eb",
   "metadata": {},
   "outputs": [],
   "source": []
  }
 ],
 "metadata": {
  "kernelspec": {
   "display_name": "Python 3",
   "language": "python",
   "name": "python3"
  },
  "language_info": {
   "codemirror_mode": {
    "name": "ipython",
    "version": 3
   },
   "file_extension": ".py",
   "mimetype": "text/x-python",
   "name": "python",
   "nbconvert_exporter": "python",
   "pygments_lexer": "ipython3",
   "version": "3.8.8"
  }
 },
 "nbformat": 4,
 "nbformat_minor": 5
}
